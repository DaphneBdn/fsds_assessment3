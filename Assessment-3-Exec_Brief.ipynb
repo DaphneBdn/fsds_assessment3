{
 "cells": [
  {
   "cell_type": "markdown",
   "metadata": {},
   "source": [
    "# Front Matter: CASA0013: Foundations of Spatial Data Science\n",
    "\n",
    "## Title of Briefing\n",
    "\n",
    "### Student ID\n",
    "\n",
    "### Word Count:"
   ]
  },
  {
   "cell_type": "markdown",
   "metadata": {},
   "source": [
    "# Reproducible Analysis\n",
    "\n",
    "Please feel free to add as many code cells and markdown cells of comment/explanation as needed to make your code legible and clear. Your code should output any figures needed to disk."
   ]
  },
  {
   "cell_type": "code",
   "execution_count": null,
   "metadata": {},
   "outputs": [],
   "source": []
  },
  {
   "cell_type": "markdown",
   "metadata": {},
   "source": [
    "# Executive Briefing\n",
    "\n",
    "This should be composed of markdown cells _only_. You may have more than one markdown cell so as to support a useful Table of Contents. Images should be included by reference using the standard Markdown format `![Alt text here](local/image/created_in_code.png)`. \n",
    "<br>\n",
    "Add each section of your briefing to the corresponding cell below. \n",
    "<br>\n",
    "_Additional guidence on the structure can be found on Moodle_\n"
   ]
  },
  {
   "cell_type": "markdown",
   "metadata": {},
   "source": [
    "## Executive summary\n"
   ]
  },
  {
   "cell_type": "markdown",
   "metadata": {},
   "source": [
    "This report seeks to describe and analyse the spatial penetration of Airbnb listings in London. After a first exploration of the datasets with visualisations that seek to quantify the current picture of Airbnb listings in London, the London wards are classified by their number of listings (low, medium, large), followed by a geodemographic classification of the neighbourhoods that attempts to identify patterns explaining and perhaps predicting the presence or absence of listings.\n",
    "What is the current picture of listings?\n",
    "Can area of London be categorised depending on the impact?\n",
    "Key findings:\n",
    "* Airbnb listings numbers are high, despite the pandemics. Compared we have xxx and xxxx. \n",
    "* X% are inactive, x% are inner vs outer. \n",
    "* As expected the most affected are these, followed by these… with some exeptions\n",
    "* In a more detailed geodemographic profiling of London areas the mostly affected areas are central, afluent with young population and predominantly white while the least are rural, older and no flats.\n",
    "\n",
    "\n",
    "\n",
    "\n",
    "sdjhaskdghaskgh askdf asdhf aksdjfh asdfh alsdf "
   ]
  },
  {
   "cell_type": "markdown",
   "metadata": {},
   "source": [
    "## Background"
   ]
  },
  {
   "cell_type": "markdown",
   "metadata": {},
   "source": [
    "| Syntax | Description | Description |\n",
    "| ----------- | ----------- | ----------- |\n",
    "| Hi | Title | Description |\n",
    "| Paragraph | Text | Description |"
   ]
  },
  {
   "cell_type": "markdown",
   "metadata": {},
   "source": [
    "|  | Total | Active | >90 days \n",
    "| ----------- | ----------- | ----------- | ----------- |\n",
    "| 2007 | c | c | c |\n",
    "| 2021 | x | x | x |"
   ]
  },
  {
   "cell_type": "markdown",
   "metadata": {},
   "source": [
    "## Data Analysis"
   ]
  },
  {
   "cell_type": "markdown",
   "metadata": {},
   "source": [
    "TEXT"
   ]
  },
  {
   "cell_type": "markdown",
   "metadata": {},
   "source": [
    "![\"image\"](Active_Airbnb_map_comparison_dots.png)"
   ]
  },
  {
   "cell_type": "code",
   "execution_count": null,
   "metadata": {},
   "outputs": [],
   "source": []
  },
  {
   "cell_type": "markdown",
   "metadata": {},
   "source": [
    "| name | description | category | source |\n",
    "| ----------- | ----------- | ----------- | ----------- |\n",
    "| Median age |Median Age (2013)| demographic | London Wards Profiles |\n",
    "| Population density | Population density (2013) | geodemographic | London Wards Profiles |\n",
    "| BAME percentage | Percentage of BAME (2011) | demographic | London Wards Profiles |\n",
    "| Median income | Median Household income estimate (2012/13) | economic | London Wards Profiles |\n",
    "| Flat percentage | Percentage of Flat, maisonette or apartment (2011) | housing | London Wards Profiles |\n",
    "| Higher Education percentage | Percentage with Level 4 qualifications and above (2011) | socialdemographic | London Wards Profiles |\n",
    "| Transport | Average Public Transport Accessibility score (2014) | location/attactiveness | London Wards Profiles |\n",
    "| Listings Density | Airbnb listings density per area (2021) | Airbnb | Inside Airbnb |"
   ]
  },
  {
   "cell_type": "markdown",
   "metadata": {},
   "source": [
    "## Conclusion"
   ]
  },
  {
   "cell_type": "code",
   "execution_count": null,
   "metadata": {},
   "outputs": [],
   "source": []
  },
  {
   "cell_type": "markdown",
   "metadata": {},
   "source": [
    "# Bibliography\n",
    "\n",
    "This should be a list in markdown of any documents referenced in the _Executive Briefing_. Please also link to the document using the standard Markdown format `[Link text](https://link.website.org/)`. If the document is an academic article or other piece requiring authentication please link to a DOI.\n"
   ]
  }
 ],
 "metadata": {
  "kernelspec": {
   "display_name": "Python 3 (ipykernel)",
   "language": "python",
   "name": "python3"
  },
  "language_info": {
   "codemirror_mode": {
    "name": "ipython",
    "version": 3
   },
   "file_extension": ".py",
   "mimetype": "text/x-python",
   "name": "python",
   "nbconvert_exporter": "python",
   "pygments_lexer": "ipython3",
   "version": "3.9.6"
  }
 },
 "nbformat": 4,
 "nbformat_minor": 4
}
