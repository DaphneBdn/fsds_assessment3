{
 "cells": [
  {
   "cell_type": "markdown",
   "metadata": {},
   "source": [
    "# Front Matter: CASA0013: Foundations of Spatial Data Science\n",
    "\n",
    "## Title of Briefing: Drivers behind the geographic concentration on Airbnb listings across London\n",
    "\n",
    "### Student ID: 21203086 \n",
    "\n",
    "### Word Count: 1490\n",
    "\n",
    "\n"
   ]
  },
  {
   "cell_type": "markdown",
   "metadata": {},
   "source": [
    "# Executive Briefing\n",
    "\n"
   ]
  },
  {
   "cell_type": "markdown",
   "metadata": {},
   "source": [
    "## Table of contents\n",
    "\n",
    "Executive Summary\n",
    "\n",
    "Background\n",
    "\n",
    "Data Analysis\n",
    "\n",
    "Conclusion\n",
    "\n",
    "Bibliography\n",
    "\n",
    "Appendices\n",
    "\n",
    "\n",
    "\n"
   ]
  },
  {
   "cell_type": "markdown",
   "metadata": {},
   "source": [
    "## Executive summary\n"
   ]
  },
  {
   "cell_type": "markdown",
   "metadata": {},
   "source": [
    "Do certain areas of London trigger the geographic concentration of Airbnb listings across London?\n",
    "\n",
    "This report seeks to describe and analyse the spread of Airbnb listings in London by identifying common components characterising areas displaying a high concentration of listings. First, visualisations seek to quantify the current picture of Airbnb listings across the city, followed by a categorisation of the Greater London Wards by their concentration of listings (low, medium, high). A subsequent geodemographic classification of the areas attempts to identify patterns explaining the presence or absence of listings. Finally, this paper discusses how these results and similar approaches can inform policies that will regulate Airbnb listings in a targeted manner.\n",
    "\n",
    "Key findings:\n",
    "\n",
    "* Airbnb listings numbers, albeit high, have significantly dropped during the Covid 19 pandemic\n",
    "* As expected, the highest concentration of Airbnb listings is noted in central London areas, but Airbnb listings scatter even to the city’s fringes.\n",
    "* In a more detailed geodemographic profiling of London areas, the most affected areas are central, affluent with a young population and predominantly white while the least are rural, older and no flats.\n"
   ]
  },
  {
   "cell_type": "markdown",
   "metadata": {},
   "source": [
    "## Background\n",
    "\n"
   ]
  },
  {
   "cell_type": "markdown",
   "metadata": {},
   "source": [
    "What started as an alternative way of holidays, sharing, and experiencing the local in an authentic and original way, has turned into a booming economy with questionable effects. Airbnb listings have all over the world been professionalised and intensified and are now cluttering cities while the housing crisis remains a major problem.  The fundamental right to a roof is challenged as housing prices rise rapidly across cities, especially in the years after the financial crisis of 2008 (Gleeson, 2021). The notorious housing problem of London (Travers, Sims and Bosetti, 2016) has strongly contributed to spatial inequality and transformed the urban landscape (Shabrina, Arcaute and Batty, 2019) by pushing residents out of inner London to more affordable regions. \n",
    "\n",
    "While many factors generate the complicated matter of the housing crisis, research to date shows that Airbnb and similar platforms contribute to rising rent prices (Barron, Kung and Proserpio, no date; Horn and Merante, 2017) and remove available housing from the market by injecting short term rentals in residential areas (Shabrina, Arcaute and Batty, 2022). \n",
    "\n",
    "Many have called for policies to control unregulated platforms like Airbnb, but communities, researchers and local authorities have struggled to grasp and interpret the sudden growth and unprecedented model of the sharing economies (Horn and Merante, 2017). This paper argues that in order to successfully and appropriately regulate Airbnb in a city like London, the phenomenon and its complexity need first to be fully understood and studied. Therefore, this analysis will first present the current status of Airbnb listings across London and identify the most affected areas before attempting a more in-depth analysis.\n",
    "\n",
    "Drawing from the most recent available data on the Inside Airbnb website (October 2021), London currently has a total of just over 67,900 listings. Roughly 20% (13,600 listings) have had a review in the past year, which is used as an indicator for currently active listings. These numbers seem to be in stark contrast with pre-pandemic figures: 80,770 listings in May 2019 (Temperton, 2020). While it is difficult to confirm the accuracy of these numbers since they do not derive from official Airbnb data, it is evident that the Covid 19 pandemic has strongly affected the sharing economy.\n"
   ]
  },
  {
   "cell_type": "markdown",
   "metadata": {},
   "source": [
    "![Fig 1](Active_Airbnb_map_comparison_dots2.png)\n",
    "\n",
    "*Fig.1 - Comparison maps: Airbnb listings in London in 2021 (Data: Inside Airbnb)*\n"
   ]
  },
  {
   "cell_type": "markdown",
   "metadata": {},
   "source": [
    "The maps in Figure 1 illustrate the magnitude of the Airbnb listings count across the area of London. Even the outer Boroughs seem to host a considerable number of listings. While the currently active listings (last posted review within the past year) are significantly less, the emerging pattern remains the same: a very high concentration of listings in the centre spread outwards in smaller intensity. More specifically, looking at the density of Airbnb listings across London Boroughs, Figure 2 confirms that inner London Boroughs concentrate most of the listings: Westminster, Kensington and Chelsea, and Tower Hamlets are the three most affected areas, closely followed by Hackney, Islington, and Camden."
   ]
  },
  {
   "cell_type": "markdown",
   "metadata": {},
   "source": [
    "![Fig 2](Barplot_Listings_Density_per_Borough.png)\n",
    "\n",
    "*Fig.2 - Barplot: Airbnb listings Density per London Borough(2021) (Data: Inside Airbnb)*\n"
   ]
  },
  {
   "cell_type": "markdown",
   "metadata": {},
   "source": [
    "## Data Analysis"
   ]
  },
  {
   "cell_type": "markdown",
   "metadata": {},
   "source": [
    "This analysis will use the listings density (active and inactive) as the measure of spatial penetration of Airbnb listings in London. However, the London Boroughs are relatively large spatial units that do not capture more fine-grained variation across the city's urban fabric. Therefore, the analysis will be based on smaller spatial units, the Greater London Wards. "
   ]
  },
  {
   "cell_type": "markdown",
   "metadata": {},
   "source": [
    "![Fig 3](Log Airbnb_density.png)\n",
    "\n",
    "*Fig.3 - Airbnb listings density(log) in London in 2021 (Data: Inside Airbnb)*\n"
   ]
  },
  {
   "cell_type": "markdown",
   "metadata": {},
   "source": [
    "Plotting the Log transformed listings density across the London Wards (Figure 3) reveals:\n",
    "\n",
    "* High concentration of listings in the central north and west parts of London\n",
    "* Medium concentration of listings in the immediately surrounding areas and mostly within the inner London division with a light but a noticeable shift towards the west. \n",
    "* Low concentration of listings in Outer London.  \n",
    "\n",
    "While the concentration of listings in central London is certainly expected and explained by the attractiveness of these areas to tourists, in terms of proximity to major sights of the city, the rather surprising expansion of listings towards even the outer areas of the city have been noted and studied in previous research. (Quattrone et al., 2016; Shabrina, Arcaute and Batty, 2019) \n",
    "\n",
    "In the attempt to better understand where and why listings are concentrating, this analysis employs a form of statistical clustering known as K-Means to group the London Wards based on the concentration of Airbnb listings and variables deriving from the London Wards Profiles from the London Datastore that provides key summary measures on a multitude of categories such as population, diversity, and housing. \n"
   ]
  },
  {
   "cell_type": "markdown",
   "metadata": {},
   "source": [
    "![Fig 4](table.PNG)\n",
    "\n",
    "*Fig.4 - Table listing the variables used (Data: London Ward Profiles, Inside Airbnb)*"
   ]
  },
  {
   "cell_type": "markdown",
   "metadata": {},
   "source": [
    "![Fig 5](Variables_maps.png)\n",
    "\n",
    "*Fig.5 - Distribution of variables across London (Data: London Ward Profiles, Inside Airbnb)*\n"
   ]
  },
  {
   "cell_type": "markdown",
   "metadata": {},
   "source": [
    "The selection of the variables as listed in Figure 4, whilst not exhaustive, aims to capture a range of geodemographic, social, and economic characteristics of the subregions following similar studies (Quattrone et al., 2016, 2018).\n",
    "\n",
    "The distribution of the data is heavily skewed in some instances and with different ranges and units (Appendix A), which requires standardisation so that none of the variables dominates the classification process. The number of clusters is set to 4 based on the results from the Elbow and Silhouette plot (Appendix B)\n",
    "\n",
    "Evaluating the distribution of each variable per cluster (Appendix C) in conjunction with the geographic distribution of the clusters across London (Figure 8), the resulting clusters can be interpreted as (LOW, MEDIUM, HIGH indicate the concentration of listings):\n",
    "\n",
    "**Cluster 1:  LOW - suburban middle class**\n",
    "\n",
    "These are suburban areas, in the outer edges of London, where population density is low, and few houses are flats and transport connections are bad. The population is older, predominantly white, with average income and low higher education levels.\n",
    "\n",
    "**Cluster 2:  HIGH - densely populated diverse inner London**\n",
    "\n",
    "Mostly inner London areas with good transport links, with some exceptions. These areas have a high population density together with a high concentration of flats. Characterised by younger, diverse population with an average income and average higher education levels. \n",
    "\n",
    "**Cluster 3: MEDIUM - affluent and attractive city areas**\n",
    "\n",
    "Almost entirely inner London areas with relatively good transport links. Medium population density levels as well as medium flat concentration. The population age is average, predominantly white with high income and high education levels. \n",
    "\n",
    "**Cluster 4: LOW - deprived outer areas**\n",
    "\n",
    "Areas just outside inner London, with exceptions, that have bad transport links. Medium population density levels and few flats. The population here is mostly Black, Asian and Minority Ethnic with low income and education levels.\n"
   ]
  },
  {
   "cell_type": "markdown",
   "metadata": {},
   "source": [
    "![Fig 6](Cluster_map.png)\n",
    "\n",
    "*Fig.6 - Distribution of variables across London (Data: London Ward Profiles, Inside Airbnb)*\n"
   ]
  },
  {
   "cell_type": "markdown",
   "metadata": {},
   "source": [
    "## Conclusion"
   ]
  },
  {
   "cell_type": "markdown",
   "metadata": {},
   "source": [
    "The classification of London wards suggests that Airbnb listings are concentrated not only in central areas with good transport links but also in areas with young, white, well-off residents and where flats are more frequent than other types of housings. These findings align with Quattrone et al. regression and prediction models, which identify central areas with young and talented people most prone to high Airbnb listings concentration.  (Quattrone et al., 2018)\n",
    "\n",
    "This rather simple and generic classification of the London areas can form the basis for a much more detailed and complicated analysis, implementing different methods such as a multiple linear regression while testing for spatial autocorrelation. Using a more extensive set of variables and perhaps even smaller spatial units might refine the results and produce new insights.\n",
    "\n",
    "While the results strongly depend on the researcher’s choices, methods, and assumptions, it is essential to note that the data themselves have significant limitations: the London Profiles data extracted from the 2011 census is now outdated, while the Inside Airbnb data has questionable accuracy, and any interpretation needs to bear in mind the still ongoing Covid 19 pandemic.\n",
    "\n",
    "The findings indicate that the policies and regulations imposed on the sharing economy need to take into account the variations in listings concentration and neighbourhood characteristics which will help protect the most susceptible areas. Creating incentives for either hosts to register their short-term lets on a government/local authority platform or Airbnb to share their data so that an accurate and valid database can be created informing the much-needed further research on this topic. \n"
   ]
  },
  {
   "cell_type": "markdown",
   "metadata": {},
   "source": [
    "# Bibliography"
   ]
  },
  {
   "cell_type": "markdown",
   "metadata": {},
   "source": [
    "[Barron, K., Kung, E. and Proserpio, D. (no date) The Effect of Home-Sharing on House Prices and Rents: Evidence from Airbnb. Available at: https://ssrn.com/abstract=3006832.](https://papers.ssrn.com/sol3/papers.cfm?abstract_id=3006832)\n",
    "\n",
    "[Gleeson, J. (2021) GLA Housing and Land Housing in London 2021. Available at: www.london.gov.uk.](https://data.london.gov.uk/download/housing-london/ae8ad049-69e7-42cf-a2d3-86f4feff2f52/Housing%20in%20London%202021%20v2.pdf)\n",
    "\n",
    "[Horn, K. and Merante, M. (2017) “Is home sharing driving up rents? Evidence from Airbnb in Boston,” Journal of Housing Economics, 38, pp. 14–24. doi:10.1016/j.jhe.2017.08.002.](https://www.sciencedirect.com/science/article/abs/pii/S1051137717300876)\n",
    "\n",
    "[Inside Airbnb,2021. Available at: http://insideairbnb.com/get-the-data.html (Accessed: 22 December 2021).](http://insideairbnb.com/get-the-data.html)\n",
    "\n",
    "[London Datastore, 2021, Ward Profiles and Atlas. Available at: https://data.london.gov.uk/dataset/ward-profiles-and-atlas (Accessed: 22 December 2021).](https://data.london.gov.uk/dataset/ward-profiles-and-atla)\n",
    "\n",
    "[Quattrone, G. et al. (2016) “Who benefits from the ‘sharing’ economy of airbnb?,” in 25th International World Wide Web Conference, WWW 2016. International World Wide Web Conferences Steering Committee, pp. 1385–1393. doi:10.1145/2872427.2874815.](https://www.researchgate.net/publication/301874810_Who_Benefits_from_the_Sharing_Economy_of_Airbnb)\n",
    "\n",
    "[Quattrone, G. et al. (2018) “Analyzing and predicting the spatial penetration of Airbnb in U.S. cities,” EPJ Data Science, 7(1). doi:10.1140/epjds/s13688-018-0156-6.](https://epjdatascience.springeropen.com/articles/10.1140/epjds/s13688-018-0156-6)\n",
    "\n",
    "[Shabrina, Z., Arcaute, E. and Batty, M. (2019) “Airbnb’s disruption of the housing structure in London.” Available at: http://arxiv.org/abs/1903.11205.](http://arxiv.org/abs/1903.11205)\n",
    "\n",
    "[Shabrina, Z., Arcaute, E. and Batty, M. (2022) “Airbnb and its potential impact on the London housing market,” Urban Studies, 59(1), pp. 197–221. doi:10.1177/0042098020970865.](https://journals.sagepub.com/doi/full/10.1177/0042098020970865)\n",
    "\n",
    "[Travers, T., Sims, S. and Bosetti, N. (no date) HOUSING AND INEQUALITY IN LONDON. Available at: www.centreforlondon.org.](www.centreforlondon.org)\n",
    "\n",
    "[Temperton, J. (2020) Airbnb has devoured London – and here’s the data that proves it. Available at: https://www.wired.co.uk/article/airbnb-london-short-term-rentals (Accessed: 04 January 2022).](https://www.wired.co.uk/article/airbnb-london-short-term-rentals)\n"
   ]
  },
  {
   "cell_type": "markdown",
   "metadata": {},
   "source": [
    "# Appendices"
   ]
  },
  {
   "cell_type": "markdown",
   "metadata": {},
   "source": [
    "### Appendix A\n",
    "\n",
    "![Fig 6](Variables_distribution_hist.png)\n"
   ]
  },
  {
   "cell_type": "markdown",
   "metadata": {},
   "source": [
    "### Appendix B\n",
    "\n",
    "<figure>\n",
    "<img src=\"Silhouette_elbow_plot.png\" alt=\"Trulli\" style=\"width:80%\">\n",
    "<figcaption align = \"centre\"><b> Silhouette and Elbow plot </b></figcaption>\n",
    "</figure>"
   ]
  },
  {
   "cell_type": "markdown",
   "metadata": {},
   "source": [
    "### Appendix C\n",
    "\n",
    "![Fig 6](Variable_distribution_clusters.png)\n"
   ]
  }
 ],
 "metadata": {
  "kernelspec": {
   "display_name": "Python 3 (ipykernel)",
   "language": "python",
   "name": "python3"
  },
  "language_info": {
   "codemirror_mode": {
    "name": "ipython",
    "version": 3
   },
   "file_extension": ".py",
   "mimetype": "text/x-python",
   "name": "python",
   "nbconvert_exporter": "python",
   "pygments_lexer": "ipython3",
   "version": "3.9.6"
  }
 },
 "nbformat": 4,
 "nbformat_minor": 4
}
